{
 "cells": [
  {
   "cell_type": "code",
   "execution_count": 1,
   "metadata": {
    "ExecuteTime": {
     "end_time": "2024-02-22T18:53:23.667700Z",
     "start_time": "2024-02-22T18:53:16.793864Z"
    }
   },
   "outputs": [],
   "source": [
    "# Importing necessary packages\n",
    "import pandas as pd # python's data handling package\n",
    "import numpy as np # python's scientific computing package\n",
    "import matplotlib.pyplot as plt # python's plotting package\n",
    "import openpyxl\n",
    "from sklearn.metrics import mean_squared_error as mse"
   ]
  },
  {
   "cell_type": "markdown",
   "metadata": {},
   "source": [
    "##### Loading data."
   ]
  },
  {
   "cell_type": "code",
   "execution_count": 2,
   "metadata": {
    "ExecuteTime": {
     "end_time": "2024-02-22T18:53:23.728327Z",
     "start_time": "2024-02-22T18:53:23.657945Z"
    }
   },
   "outputs": [],
   "source": [
    "# Both features and target have already been scaled: mean = 0; SD = 1\n",
    "data = pd.read_csv('Houseprice_data_scaled.csv') "
   ]
  },
  {
   "cell_type": "code",
   "execution_count": 3,
   "metadata": {
    "ExecuteTime": {
     "end_time": "2024-02-22T18:53:23.729991Z",
     "start_time": "2024-02-22T18:53:23.693387Z"
    }
   },
   "outputs": [],
   "source": [
    "# First 1800 data items are training set; the next 600 are the validation set\n",
    "train = data.iloc[:1800] \n",
    "val = data.iloc[1800:2400]"
   ]
  },
  {
   "cell_type": "code",
   "execution_count": 4,
   "metadata": {
    "ExecuteTime": {
     "end_time": "2024-02-22T18:53:23.730846Z",
     "start_time": "2024-02-22T18:53:23.705565Z"
    }
   },
   "outputs": [],
   "source": [
    "# Creating the \"X\" and \"y\" variables. We drop sale price from \"X\"\n",
    "X_train, X_val = train.drop('Sale Price', axis=1), val.drop('Sale Price', axis=1)\n",
    "y_train, y_val = train[['Sale Price']], val[['Sale Price']] "
   ]
  },
  {
   "cell_type": "markdown",
   "metadata": {},
   "source": [
    "###### Linear Regression"
   ]
  },
  {
   "cell_type": "code",
   "execution_count": 5,
   "metadata": {
    "ExecuteTime": {
     "end_time": "2024-02-22T18:53:24.272289Z",
     "start_time": "2024-02-22T18:53:23.710349Z"
    }
   },
   "outputs": [],
   "source": [
    "# Importing models\n",
    "from sklearn.linear_model import LinearRegression"
   ]
  },
  {
   "cell_type": "code",
   "execution_count": 6,
   "metadata": {
    "ExecuteTime": {
     "end_time": "2024-02-22T18:53:24.350873Z",
     "start_time": "2024-02-22T18:53:24.275548Z"
    }
   },
   "outputs": [
    {
     "data": {
      "text/plain": "LinearRegression()",
      "text/html": "<style>#sk-container-id-1 {color: black;}#sk-container-id-1 pre{padding: 0;}#sk-container-id-1 div.sk-toggleable {background-color: white;}#sk-container-id-1 label.sk-toggleable__label {cursor: pointer;display: block;width: 100%;margin-bottom: 0;padding: 0.3em;box-sizing: border-box;text-align: center;}#sk-container-id-1 label.sk-toggleable__label-arrow:before {content: \"▸\";float: left;margin-right: 0.25em;color: #696969;}#sk-container-id-1 label.sk-toggleable__label-arrow:hover:before {color: black;}#sk-container-id-1 div.sk-estimator:hover label.sk-toggleable__label-arrow:before {color: black;}#sk-container-id-1 div.sk-toggleable__content {max-height: 0;max-width: 0;overflow: hidden;text-align: left;background-color: #f0f8ff;}#sk-container-id-1 div.sk-toggleable__content pre {margin: 0.2em;color: black;border-radius: 0.25em;background-color: #f0f8ff;}#sk-container-id-1 input.sk-toggleable__control:checked~div.sk-toggleable__content {max-height: 200px;max-width: 100%;overflow: auto;}#sk-container-id-1 input.sk-toggleable__control:checked~label.sk-toggleable__label-arrow:before {content: \"▾\";}#sk-container-id-1 div.sk-estimator input.sk-toggleable__control:checked~label.sk-toggleable__label {background-color: #d4ebff;}#sk-container-id-1 div.sk-label input.sk-toggleable__control:checked~label.sk-toggleable__label {background-color: #d4ebff;}#sk-container-id-1 input.sk-hidden--visually {border: 0;clip: rect(1px 1px 1px 1px);clip: rect(1px, 1px, 1px, 1px);height: 1px;margin: -1px;overflow: hidden;padding: 0;position: absolute;width: 1px;}#sk-container-id-1 div.sk-estimator {font-family: monospace;background-color: #f0f8ff;border: 1px dotted black;border-radius: 0.25em;box-sizing: border-box;margin-bottom: 0.5em;}#sk-container-id-1 div.sk-estimator:hover {background-color: #d4ebff;}#sk-container-id-1 div.sk-parallel-item::after {content: \"\";width: 100%;border-bottom: 1px solid gray;flex-grow: 1;}#sk-container-id-1 div.sk-label:hover label.sk-toggleable__label {background-color: #d4ebff;}#sk-container-id-1 div.sk-serial::before {content: \"\";position: absolute;border-left: 1px solid gray;box-sizing: border-box;top: 0;bottom: 0;left: 50%;z-index: 0;}#sk-container-id-1 div.sk-serial {display: flex;flex-direction: column;align-items: center;background-color: white;padding-right: 0.2em;padding-left: 0.2em;position: relative;}#sk-container-id-1 div.sk-item {position: relative;z-index: 1;}#sk-container-id-1 div.sk-parallel {display: flex;align-items: stretch;justify-content: center;background-color: white;position: relative;}#sk-container-id-1 div.sk-item::before, #sk-container-id-1 div.sk-parallel-item::before {content: \"\";position: absolute;border-left: 1px solid gray;box-sizing: border-box;top: 0;bottom: 0;left: 50%;z-index: -1;}#sk-container-id-1 div.sk-parallel-item {display: flex;flex-direction: column;z-index: 1;position: relative;background-color: white;}#sk-container-id-1 div.sk-parallel-item:first-child::after {align-self: flex-end;width: 50%;}#sk-container-id-1 div.sk-parallel-item:last-child::after {align-self: flex-start;width: 50%;}#sk-container-id-1 div.sk-parallel-item:only-child::after {width: 0;}#sk-container-id-1 div.sk-dashed-wrapped {border: 1px dashed gray;margin: 0 0.4em 0.5em 0.4em;box-sizing: border-box;padding-bottom: 0.4em;background-color: white;}#sk-container-id-1 div.sk-label label {font-family: monospace;font-weight: bold;display: inline-block;line-height: 1.2em;}#sk-container-id-1 div.sk-label-container {text-align: center;}#sk-container-id-1 div.sk-container {/* jupyter's `normalize.less` sets `[hidden] { display: none; }` but bootstrap.min.css set `[hidden] { display: none !important; }` so we also need the `!important` here to be able to override the default hidden behavior on the sphinx rendered scikit-learn.org. See: https://github.com/scikit-learn/scikit-learn/issues/21755 */display: inline-block !important;position: relative;}#sk-container-id-1 div.sk-text-repr-fallback {display: none;}</style><div id=\"sk-container-id-1\" class=\"sk-top-container\"><div class=\"sk-text-repr-fallback\"><pre>LinearRegression()</pre><b>In a Jupyter environment, please rerun this cell to show the HTML representation or trust the notebook. <br />On GitHub, the HTML representation is unable to render, please try loading this page with nbviewer.org.</b></div><div class=\"sk-container\" hidden><div class=\"sk-item\"><div class=\"sk-estimator sk-toggleable\"><input class=\"sk-toggleable__control sk-hidden--visually\" id=\"sk-estimator-id-1\" type=\"checkbox\" checked><label for=\"sk-estimator-id-1\" class=\"sk-toggleable__label sk-toggleable__label-arrow\">LinearRegression</label><div class=\"sk-toggleable__content\"><pre>LinearRegression()</pre></div></div></div></div></div>"
     },
     "execution_count": 6,
     "metadata": {},
     "output_type": "execute_result"
    }
   ],
   "source": [
    "lr=LinearRegression()\n",
    "lr.fit(X_train,y_train)"
   ]
  },
  {
   "cell_type": "code",
   "execution_count": 7,
   "metadata": {
    "ExecuteTime": {
     "end_time": "2024-02-22T18:53:24.371678Z",
     "start_time": "2024-02-22T18:53:24.300135Z"
    }
   },
   "outputs": [
    {
     "data": {
      "text/plain": "                      1\n0                      \nintercept          -0.0\nLotArea           0.079\nOverallQual    0.214395\nOverallCond    0.096479\nYearBuilt      0.160799\nYearRemodAdd   0.025352\nBsmtFinSF1     0.091466\nBsmtUnfSF      -0.03308\nTotalBsmtSF    0.138199\n1stFlrSF       0.152786\n2ndFlrSF       0.132765\nGrLivArea      0.161303\nFullBath      -0.020808\nHalfBath       0.017194\nBedroomAbvGr   -0.08352\nTotRmsAbvGrd    0.08322\nFireplaces     0.028258\nGarageCars     0.037997\nGarageArea     0.051809\nWoodDeckSF     0.020834\nOpenPorchSF    0.034098\nEnclosedPorch  0.006822\nBlmngtn       -0.018431\nBlueste       -0.012921\nBrDale        -0.024626\nBrkSide        0.020762\nClearCr       -0.007378\nCollgCr       -0.006754\nCrawfor        0.036323\nEdwards        -0.00069\nGilbert        -0.00834\nIDOTRR        -0.001537\nMeadowV       -0.016418\nMitchel       -0.028482\nNames         -0.038506\nNoRidge        0.051563\nNPkVill       -0.021952\nNriddgHt        0.12399\nNWAmes        -0.051759\nOLDTown       -0.026499\nSWISU         -0.004143\nSawyer        -0.018134\nSawyerW       -0.028275\nSomerst        0.027506\nStoneBr        0.063059\nTimber        -0.002762\nVeenker        0.002403\nBsmt Qual      0.011311",
      "text/html": "<div>\n<style scoped>\n    .dataframe tbody tr th:only-of-type {\n        vertical-align: middle;\n    }\n\n    .dataframe tbody tr th {\n        vertical-align: top;\n    }\n\n    .dataframe thead th {\n        text-align: right;\n    }\n</style>\n<table border=\"1\" class=\"dataframe\">\n  <thead>\n    <tr style=\"text-align: right;\">\n      <th></th>\n      <th>1</th>\n    </tr>\n    <tr>\n      <th>0</th>\n      <th></th>\n    </tr>\n  </thead>\n  <tbody>\n    <tr>\n      <th>intercept</th>\n      <td>-0.0</td>\n    </tr>\n    <tr>\n      <th>LotArea</th>\n      <td>0.079</td>\n    </tr>\n    <tr>\n      <th>OverallQual</th>\n      <td>0.214395</td>\n    </tr>\n    <tr>\n      <th>OverallCond</th>\n      <td>0.096479</td>\n    </tr>\n    <tr>\n      <th>YearBuilt</th>\n      <td>0.160799</td>\n    </tr>\n    <tr>\n      <th>YearRemodAdd</th>\n      <td>0.025352</td>\n    </tr>\n    <tr>\n      <th>BsmtFinSF1</th>\n      <td>0.091466</td>\n    </tr>\n    <tr>\n      <th>BsmtUnfSF</th>\n      <td>-0.03308</td>\n    </tr>\n    <tr>\n      <th>TotalBsmtSF</th>\n      <td>0.138199</td>\n    </tr>\n    <tr>\n      <th>1stFlrSF</th>\n      <td>0.152786</td>\n    </tr>\n    <tr>\n      <th>2ndFlrSF</th>\n      <td>0.132765</td>\n    </tr>\n    <tr>\n      <th>GrLivArea</th>\n      <td>0.161303</td>\n    </tr>\n    <tr>\n      <th>FullBath</th>\n      <td>-0.020808</td>\n    </tr>\n    <tr>\n      <th>HalfBath</th>\n      <td>0.017194</td>\n    </tr>\n    <tr>\n      <th>BedroomAbvGr</th>\n      <td>-0.08352</td>\n    </tr>\n    <tr>\n      <th>TotRmsAbvGrd</th>\n      <td>0.08322</td>\n    </tr>\n    <tr>\n      <th>Fireplaces</th>\n      <td>0.028258</td>\n    </tr>\n    <tr>\n      <th>GarageCars</th>\n      <td>0.037997</td>\n    </tr>\n    <tr>\n      <th>GarageArea</th>\n      <td>0.051809</td>\n    </tr>\n    <tr>\n      <th>WoodDeckSF</th>\n      <td>0.020834</td>\n    </tr>\n    <tr>\n      <th>OpenPorchSF</th>\n      <td>0.034098</td>\n    </tr>\n    <tr>\n      <th>EnclosedPorch</th>\n      <td>0.006822</td>\n    </tr>\n    <tr>\n      <th>Blmngtn</th>\n      <td>-0.018431</td>\n    </tr>\n    <tr>\n      <th>Blueste</th>\n      <td>-0.012921</td>\n    </tr>\n    <tr>\n      <th>BrDale</th>\n      <td>-0.024626</td>\n    </tr>\n    <tr>\n      <th>BrkSide</th>\n      <td>0.020762</td>\n    </tr>\n    <tr>\n      <th>ClearCr</th>\n      <td>-0.007378</td>\n    </tr>\n    <tr>\n      <th>CollgCr</th>\n      <td>-0.006754</td>\n    </tr>\n    <tr>\n      <th>Crawfor</th>\n      <td>0.036323</td>\n    </tr>\n    <tr>\n      <th>Edwards</th>\n      <td>-0.00069</td>\n    </tr>\n    <tr>\n      <th>Gilbert</th>\n      <td>-0.00834</td>\n    </tr>\n    <tr>\n      <th>IDOTRR</th>\n      <td>-0.001537</td>\n    </tr>\n    <tr>\n      <th>MeadowV</th>\n      <td>-0.016418</td>\n    </tr>\n    <tr>\n      <th>Mitchel</th>\n      <td>-0.028482</td>\n    </tr>\n    <tr>\n      <th>Names</th>\n      <td>-0.038506</td>\n    </tr>\n    <tr>\n      <th>NoRidge</th>\n      <td>0.051563</td>\n    </tr>\n    <tr>\n      <th>NPkVill</th>\n      <td>-0.021952</td>\n    </tr>\n    <tr>\n      <th>NriddgHt</th>\n      <td>0.12399</td>\n    </tr>\n    <tr>\n      <th>NWAmes</th>\n      <td>-0.051759</td>\n    </tr>\n    <tr>\n      <th>OLDTown</th>\n      <td>-0.026499</td>\n    </tr>\n    <tr>\n      <th>SWISU</th>\n      <td>-0.004143</td>\n    </tr>\n    <tr>\n      <th>Sawyer</th>\n      <td>-0.018134</td>\n    </tr>\n    <tr>\n      <th>SawyerW</th>\n      <td>-0.028275</td>\n    </tr>\n    <tr>\n      <th>Somerst</th>\n      <td>0.027506</td>\n    </tr>\n    <tr>\n      <th>StoneBr</th>\n      <td>0.063059</td>\n    </tr>\n    <tr>\n      <th>Timber</th>\n      <td>-0.002762</td>\n    </tr>\n    <tr>\n      <th>Veenker</th>\n      <td>0.002403</td>\n    </tr>\n    <tr>\n      <th>Bsmt Qual</th>\n      <td>0.011311</td>\n    </tr>\n  </tbody>\n</table>\n</div>"
     },
     "execution_count": 7,
     "metadata": {},
     "output_type": "execute_result"
    }
   ],
   "source": [
    "# Create dataFrame with corresponding feature and its respective coefficients\n",
    "coeffs = pd.DataFrame(\n",
    "    [\n",
    "        ['intercept'] + list(X_train.columns),\n",
    "        list(lr.intercept_) + list(lr.coef_[0])\n",
    "    ]\n",
    ").transpose().set_index(0)\n",
    "coeffs"
   ]
  },
  {
   "cell_type": "markdown",
   "metadata": {},
   "source": [
    "###### Ridge Regression"
   ]
  },
  {
   "cell_type": "code",
   "execution_count": 8,
   "metadata": {
    "ExecuteTime": {
     "end_time": "2024-02-22T18:53:24.393533Z",
     "start_time": "2024-02-22T18:53:24.316208Z"
    }
   },
   "outputs": [],
   "source": [
    "# Importing Ridge\n",
    "from sklearn.linear_model import Ridge"
   ]
  },
  {
   "cell_type": "code",
   "execution_count": 9,
   "metadata": {
    "scrolled": true,
    "ExecuteTime": {
     "end_time": "2024-02-22T18:53:24.455044Z",
     "start_time": "2024-02-22T18:53:24.330114Z"
    }
   },
   "outputs": [
    {
     "name": "stdout",
     "output_type": "stream",
     "text": [
      "0.11703284346091361\n",
      "0.11710797319753014\n",
      "0.11723952924901133\n",
      "0.11741457158889532\n",
      "0.11762384068711469\n",
      "0.11825709631198028\n",
      "0.11900057469147939\n",
      "0.12254649996292959\n",
      "0.1307359968074713\n"
     ]
    }
   ],
   "source": [
    "# The alpha used by Python's ridge should be the lambda in Hull's book times the number of observations\n",
    "alphas=[0.01*1800, 0.02*1800, 0.03*1800, 0.04*1800, 0.05*1800, 0.075*1800,0.1*1800,0.2*1800, 0.4*1800]\n",
    "mses=[]\n",
    "for alpha in alphas:\n",
    "    ridge=Ridge(alpha=alpha)\n",
    "    ridge.fit(X_train,y_train)\n",
    "    pred=ridge.predict(X_val)\n",
    "    mses.append(mse(y_val,pred))\n",
    "    print(mse(y_val,pred))"
   ]
  },
  {
   "cell_type": "code",
   "execution_count": 10,
   "metadata": {
    "ExecuteTime": {
     "end_time": "2024-02-22T18:53:24.692641Z",
     "start_time": "2024-02-22T18:53:24.408783Z"
    }
   },
   "outputs": [
    {
     "data": {
      "text/plain": "[<matplotlib.lines.Line2D at 0x13ebebed0>]"
     },
     "execution_count": 10,
     "metadata": {},
     "output_type": "execute_result"
    },
    {
     "data": {
      "text/plain": "<Figure size 640x480 with 1 Axes>",
      "image/png": "[encoded data removed]"
     },
     "metadata": {},
     "output_type": "display_data"
    }
   ],
   "source": [
    "plt.plot(alphas, mses)"
   ]
  },
  {
   "cell_type": "markdown",
   "metadata": {},
   "source": [
    "###### Lasso"
   ]
  },
  {
   "cell_type": "code",
   "execution_count": 11,
   "metadata": {
    "ExecuteTime": {
     "end_time": "2024-02-22T18:53:24.694579Z",
     "start_time": "2024-02-22T18:53:24.670774Z"
    }
   },
   "outputs": [],
   "source": [
    "# Import Lasso\n",
    "from sklearn.linear_model import Lasso"
   ]
  },
  {
   "cell_type": "code",
   "execution_count": 12,
   "metadata": {
    "ExecuteTime": {
     "end_time": "2024-02-22T18:53:24.716959Z",
     "start_time": "2024-02-22T18:53:24.674095Z"
    }
   },
   "outputs": [
    {
     "data": {
      "text/plain": "Lasso(alpha=0.05)",
      "text/html": "<style>#sk-container-id-2 {color: black;}#sk-container-id-2 pre{padding: 0;}#sk-container-id-2 div.sk-toggleable {background-color: white;}#sk-container-id-2 label.sk-toggleable__label {cursor: pointer;display: block;width: 100%;margin-bottom: 0;padding: 0.3em;box-sizing: border-box;text-align: center;}#sk-container-id-2 label.sk-toggleable__label-arrow:before {content: \"▸\";float: left;margin-right: 0.25em;color: #696969;}#sk-container-id-2 label.sk-toggleable__label-arrow:hover:before {color: black;}#sk-container-id-2 div.sk-estimator:hover label.sk-toggleable__label-arrow:before {color: black;}#sk-container-id-2 div.sk-toggleable__content {max-height: 0;max-width: 0;overflow: hidden;text-align: left;background-color: #f0f8ff;}#sk-container-id-2 div.sk-toggleable__content pre {margin: 0.2em;color: black;border-radius: 0.25em;background-color: #f0f8ff;}#sk-container-id-2 input.sk-toggleable__control:checked~div.sk-toggleable__content {max-height: 200px;max-width: 100%;overflow: auto;}#sk-container-id-2 input.sk-toggleable__control:checked~label.sk-toggleable__label-arrow:before {content: \"▾\";}#sk-container-id-2 div.sk-estimator input.sk-toggleable__control:checked~label.sk-toggleable__label {background-color: #d4ebff;}#sk-container-id-2 div.sk-label input.sk-toggleable__control:checked~label.sk-toggleable__label {background-color: #d4ebff;}#sk-container-id-2 input.sk-hidden--visually {border: 0;clip: rect(1px 1px 1px 1px);clip: rect(1px, 1px, 1px, 1px);height: 1px;margin: -1px;overflow: hidden;padding: 0;position: absolute;width: 1px;}#sk-container-id-2 div.sk-estimator {font-family: monospace;background-color: #f0f8ff;border: 1px dotted black;border-radius: 0.25em;box-sizing: border-box;margin-bottom: 0.5em;}#sk-container-id-2 div.sk-estimator:hover {background-color: #d4ebff;}#sk-container-id-2 div.sk-parallel-item::after {content: \"\";width: 100%;border-bottom: 1px solid gray;flex-grow: 1;}#sk-container-id-2 div.sk-label:hover label.sk-toggleable__label {background-color: #d4ebff;}#sk-container-id-2 div.sk-serial::before {content: \"\";position: absolute;border-left: 1px solid gray;box-sizing: border-box;top: 0;bottom: 0;left: 50%;z-index: 0;}#sk-container-id-2 div.sk-serial {display: flex;flex-direction: column;align-items: center;background-color: white;padding-right: 0.2em;padding-left: 0.2em;position: relative;}#sk-container-id-2 div.sk-item {position: relative;z-index: 1;}#sk-container-id-2 div.sk-parallel {display: flex;align-items: stretch;justify-content: center;background-color: white;position: relative;}#sk-container-id-2 div.sk-item::before, #sk-container-id-2 div.sk-parallel-item::before {content: \"\";position: absolute;border-left: 1px solid gray;box-sizing: border-box;top: 0;bottom: 0;left: 50%;z-index: -1;}#sk-container-id-2 div.sk-parallel-item {display: flex;flex-direction: column;z-index: 1;position: relative;background-color: white;}#sk-container-id-2 div.sk-parallel-item:first-child::after {align-self: flex-end;width: 50%;}#sk-container-id-2 div.sk-parallel-item:last-child::after {align-self: flex-start;width: 50%;}#sk-container-id-2 div.sk-parallel-item:only-child::after {width: 0;}#sk-container-id-2 div.sk-dashed-wrapped {border: 1px dashed gray;margin: 0 0.4em 0.5em 0.4em;box-sizing: border-box;padding-bottom: 0.4em;background-color: white;}#sk-container-id-2 div.sk-label label {font-family: monospace;font-weight: bold;display: inline-block;line-height: 1.2em;}#sk-container-id-2 div.sk-label-container {text-align: center;}#sk-container-id-2 div.sk-container {/* jupyter's `normalize.less` sets `[hidden] { display: none; }` but bootstrap.min.css set `[hidden] { display: none !important; }` so we also need the `!important` here to be able to override the default hidden behavior on the sphinx rendered scikit-learn.org. See: https://github.com/scikit-learn/scikit-learn/issues/21755 */display: inline-block !important;position: relative;}#sk-container-id-2 div.sk-text-repr-fallback {display: none;}</style><div id=\"sk-container-id-2\" class=\"sk-top-container\"><div class=\"sk-text-repr-fallback\"><pre>Lasso(alpha=0.05)</pre><b>In a Jupyter environment, please rerun this cell to show the HTML representation or trust the notebook. <br />On GitHub, the HTML representation is unable to render, please try loading this page with nbviewer.org.</b></div><div class=\"sk-container\" hidden><div class=\"sk-item\"><div class=\"sk-estimator sk-toggleable\"><input class=\"sk-toggleable__control sk-hidden--visually\" id=\"sk-estimator-id-2\" type=\"checkbox\" checked><label for=\"sk-estimator-id-2\" class=\"sk-toggleable__label sk-toggleable__label-arrow\">Lasso</label><div class=\"sk-toggleable__content\"><pre>Lasso(alpha=0.05)</pre></div></div></div></div></div>"
     },
     "execution_count": 12,
     "metadata": {},
     "output_type": "execute_result"
    }
   ],
   "source": [
    "# Here we produce results for alpha=0.05 which corresponds to lambda=0.1 in Hull's book\n",
    "lasso = Lasso(alpha=0.05)\n",
    "lasso.fit(X_train, y_train)"
   ]
  },
  {
   "cell_type": "code",
   "execution_count": 13,
   "metadata": {
    "ExecuteTime": {
     "end_time": "2024-02-22T18:53:24.807185Z",
     "start_time": "2024-02-22T18:53:24.694808Z"
    }
   },
   "outputs": [
    {
     "data": {
      "text/plain": "                      1\n0                      \nintercept          -0.0\nLotArea        0.044304\nOverallQual    0.298079\nOverallCond         0.0\nYearBuilt      0.052091\nYearRemodAdd   0.064471\nBsmtFinSF1     0.115875\nBsmtUnfSF          -0.0\nTotalBsmtSF     0.10312\n1stFlrSF       0.032295\n2ndFlrSF            0.0\nGrLivArea      0.297065\nFullBath            0.0\nHalfBath            0.0\nBedroomAbvGr       -0.0\nTotRmsAbvGrd        0.0\nFireplaces     0.020404\nGarageCars     0.027512\nGarageArea      0.06641\nWoodDeckSF     0.001029\nOpenPorchSF     0.00215\nEnclosedPorch      -0.0\nBlmngtn            -0.0\nBlueste            -0.0\nBrDale             -0.0\nBrkSide             0.0\nClearCr             0.0\nCollgCr            -0.0\nCrawfor             0.0\nEdwards            -0.0\nGilbert             0.0\nIDOTRR             -0.0\nMeadowV            -0.0\nMitchel            -0.0\nNames              -0.0\nNoRidge        0.013209\nNPkVill            -0.0\nNriddgHt       0.084299\nNWAmes             -0.0\nOLDTown            -0.0\nSWISU              -0.0\nSawyer             -0.0\nSawyerW            -0.0\nSomerst             0.0\nStoneBr        0.016815\nTimber              0.0\nVeenker             0.0\nBsmt Qual      0.020275",
      "text/html": "<div>\n<style scoped>\n    .dataframe tbody tr th:only-of-type {\n        vertical-align: middle;\n    }\n\n    .dataframe tbody tr th {\n        vertical-align: top;\n    }\n\n    .dataframe thead th {\n        text-align: right;\n    }\n</style>\n<table border=\"1\" class=\"dataframe\">\n  <thead>\n    <tr style=\"text-align: right;\">\n      <th></th>\n      <th>1</th>\n    </tr>\n    <tr>\n      <th>0</th>\n      <th></th>\n    </tr>\n  </thead>\n  <tbody>\n    <tr>\n      <th>intercept</th>\n      <td>-0.0</td>\n    </tr>\n    <tr>\n      <th>LotArea</th>\n      <td>0.044304</td>\n    </tr>\n    <tr>\n      <th>OverallQual</th>\n      <td>0.298079</td>\n    </tr>\n    <tr>\n      <th>OverallCond</th>\n      <td>0.0</td>\n    </tr>\n    <tr>\n      <th>YearBuilt</th>\n      <td>0.052091</td>\n    </tr>\n    <tr>\n      <th>YearRemodAdd</th>\n      <td>0.064471</td>\n    </tr>\n    <tr>\n      <th>BsmtFinSF1</th>\n      <td>0.115875</td>\n    </tr>\n    <tr>\n      <th>BsmtUnfSF</th>\n      <td>-0.0</td>\n    </tr>\n    <tr>\n      <th>TotalBsmtSF</th>\n      <td>0.10312</td>\n    </tr>\n    <tr>\n      <th>1stFlrSF</th>\n      <td>0.032295</td>\n    </tr>\n    <tr>\n      <th>2ndFlrSF</th>\n      <td>0.0</td>\n    </tr>\n    <tr>\n      <th>GrLivArea</th>\n      <td>0.297065</td>\n    </tr>\n    <tr>\n      <th>FullBath</th>\n      <td>0.0</td>\n    </tr>\n    <tr>\n      <th>HalfBath</th>\n      <td>0.0</td>\n    </tr>\n    <tr>\n      <th>BedroomAbvGr</th>\n      <td>-0.0</td>\n    </tr>\n    <tr>\n      <th>TotRmsAbvGrd</th>\n      <td>0.0</td>\n    </tr>\n    <tr>\n      <th>Fireplaces</th>\n      <td>0.020404</td>\n    </tr>\n    <tr>\n      <th>GarageCars</th>\n      <td>0.027512</td>\n    </tr>\n    <tr>\n      <th>GarageArea</th>\n      <td>0.06641</td>\n    </tr>\n    <tr>\n      <th>WoodDeckSF</th>\n      <td>0.001029</td>\n    </tr>\n    <tr>\n      <th>OpenPorchSF</th>\n      <td>0.00215</td>\n    </tr>\n    <tr>\n      <th>EnclosedPorch</th>\n      <td>-0.0</td>\n    </tr>\n    <tr>\n      <th>Blmngtn</th>\n      <td>-0.0</td>\n    </tr>\n    <tr>\n      <th>Blueste</th>\n      <td>-0.0</td>\n    </tr>\n    <tr>\n      <th>BrDale</th>\n      <td>-0.0</td>\n    </tr>\n    <tr>\n      <th>BrkSide</th>\n      <td>0.0</td>\n    </tr>\n    <tr>\n      <th>ClearCr</th>\n      <td>0.0</td>\n    </tr>\n    <tr>\n      <th>CollgCr</th>\n      <td>-0.0</td>\n    </tr>\n    <tr>\n      <th>Crawfor</th>\n      <td>0.0</td>\n    </tr>\n    <tr>\n      <th>Edwards</th>\n      <td>-0.0</td>\n    </tr>\n    <tr>\n      <th>Gilbert</th>\n      <td>0.0</td>\n    </tr>\n    <tr>\n      <th>IDOTRR</th>\n      <td>-0.0</td>\n    </tr>\n    <tr>\n      <th>MeadowV</th>\n      <td>-0.0</td>\n    </tr>\n    <tr>\n      <th>Mitchel</th>\n      <td>-0.0</td>\n    </tr>\n    <tr>\n      <th>Names</th>\n      <td>-0.0</td>\n    </tr>\n    <tr>\n      <th>NoRidge</th>\n      <td>0.013209</td>\n    </tr>\n    <tr>\n      <th>NPkVill</th>\n      <td>-0.0</td>\n    </tr>\n    <tr>\n      <th>NriddgHt</th>\n      <td>0.084299</td>\n    </tr>\n    <tr>\n      <th>NWAmes</th>\n      <td>-0.0</td>\n    </tr>\n    <tr>\n      <th>OLDTown</th>\n      <td>-0.0</td>\n    </tr>\n    <tr>\n      <th>SWISU</th>\n      <td>-0.0</td>\n    </tr>\n    <tr>\n      <th>Sawyer</th>\n      <td>-0.0</td>\n    </tr>\n    <tr>\n      <th>SawyerW</th>\n      <td>-0.0</td>\n    </tr>\n    <tr>\n      <th>Somerst</th>\n      <td>0.0</td>\n    </tr>\n    <tr>\n      <th>StoneBr</th>\n      <td>0.016815</td>\n    </tr>\n    <tr>\n      <th>Timber</th>\n      <td>0.0</td>\n    </tr>\n    <tr>\n      <th>Veenker</th>\n      <td>0.0</td>\n    </tr>\n    <tr>\n      <th>Bsmt Qual</th>\n      <td>0.020275</td>\n    </tr>\n  </tbody>\n</table>\n</div>"
     },
     "execution_count": 13,
     "metadata": {},
     "output_type": "execute_result"
    }
   ],
   "source": [
    "# DataFrame with corresponding feature and its respective coefficients\n",
    "coeffs = pd.DataFrame(\n",
    "    [\n",
    "        ['intercept'] + list(X_train.columns),\n",
    "        list(lasso.intercept_) + list(lasso.coef_)\n",
    "    ]\n",
    ").transpose().set_index(0)\n",
    "coeffs"
   ]
  },
  {
   "cell_type": "markdown",
   "metadata": {},
   "source": [
    "###### Lasso with different levels of alpha and its mse"
   ]
  },
  {
   "cell_type": "code",
   "execution_count": 14,
   "metadata": {
    "ExecuteTime": {
     "end_time": "2024-02-22T18:53:24.842275Z",
     "start_time": "2024-02-22T18:53:24.700023Z"
    }
   },
   "outputs": [
    {
     "name": "stdout",
     "output_type": "stream",
     "text": [
      "0.11654751909608793\n",
      "0.11682687945311097\n",
      "0.11803348353132033\n",
      "0.12012836764958999\n",
      "0.12301536903084047\n",
      "0.13178576395045638\n",
      "0.1401719458448378\n"
     ]
    }
   ],
   "source": [
    "# We now consider different lambda values. The alphas are half the lambdas\n",
    "alphas=[0.01/2, 0.02/2, 0.03/2, 0.04/2, 0.05/2, 0.075/2, 0.1/2]\n",
    "mses=[]\n",
    "for alpha in alphas:\n",
    "    lasso=Lasso(alpha=alpha)\n",
    "    lasso.fit(X_train,y_train)\n",
    "    pred=lasso.predict(X_val)\n",
    "    mses.append(mse(y_val,pred))\n",
    "    print(mse(y_val, pred))"
   ]
  },
  {
   "cell_type": "code",
   "execution_count": 15,
   "metadata": {
    "ExecuteTime": {
     "end_time": "2024-02-22T18:53:25.122990Z",
     "start_time": "2024-02-22T18:53:24.790820Z"
    }
   },
   "outputs": [
    {
     "data": {
      "text/plain": "[<matplotlib.lines.Line2D at 0x13ec52710>]"
     },
     "execution_count": 15,
     "metadata": {},
     "output_type": "execute_result"
    },
    {
     "data": {
      "text/plain": "<Figure size 640x480 with 1 Axes>",
      "image/png": "[encoded data removed]"
     },
     "metadata": {},
     "output_type": "display_data"
    }
   ],
   "source": [
    "plt.plot(alphas, mses)"
   ]
  },
  {
   "cell_type": "markdown",
   "metadata": {},
   "source": [
    "### Part A - Dealing with Missing Observations"
   ]
  },
  {
   "cell_type": "markdown",
   "metadata": {},
   "source": [
    "#### **Mean** as a method of removing missing data"
   ]
  },
  {
   "cell_type": "code",
   "execution_count": 16,
   "metadata": {
    "ExecuteTime": {
     "end_time": "2024-02-22T18:53:27.446502Z",
     "start_time": "2024-02-22T18:53:24.979619Z"
    }
   },
   "outputs": [
    {
     "name": "stdout",
     "output_type": "stream",
     "text": [
      "   Id  MSSubClass MSZoning  LotFrontage  LotArea Street Alley LotShape  \\\n",
      "0   1          60       RL         65.0     8450   Pave   NaN      Reg   \n",
      "1   2          20       RL         80.0     9600   Pave   NaN      Reg   \n",
      "2   3          60       RL         68.0    11250   Pave   NaN      IR1   \n",
      "3   4          70       RL         60.0     9550   Pave   NaN      IR1   \n",
      "4   5          60       RL         84.0    14260   Pave   NaN      IR1   \n",
      "\n",
      "  LandContour Utilities  ... PoolArea PoolQC Fence MiscFeature MiscVal MoSold  \\\n",
      "0         Lvl    AllPub  ...        0    NaN   NaN         NaN       0      2   \n",
      "1         Lvl    AllPub  ...        0    NaN   NaN         NaN       0      5   \n",
      "2         Lvl    AllPub  ...        0    NaN   NaN         NaN       0      9   \n",
      "3         Lvl    AllPub  ...        0    NaN   NaN         NaN       0      2   \n",
      "4         Lvl    AllPub  ...        0    NaN   NaN         NaN       0     12   \n",
      "\n",
      "  YrSold  SaleType  SaleCondition  SalePrice  \n",
      "0   2008        WD         Normal     208500  \n",
      "1   2007        WD         Normal     181500  \n",
      "2   2008        WD         Normal     223500  \n",
      "3   2006        WD        Abnorml     140000  \n",
      "4   2008        WD         Normal     250000  \n",
      "\n",
      "[5 rows x 81 columns]\n",
      "count    2422.000000\n",
      "mean       69.083815\n",
      "std        22.691072\n",
      "min        21.000000\n",
      "25%        59.000000\n",
      "50%        68.000000\n",
      "75%        80.000000\n",
      "max       313.000000\n",
      "Name: LotFrontage, dtype: float64\n",
      "Id                 0\n",
      "MSSubClass         0\n",
      "MSZoning           3\n",
      "LotFrontage      486\n",
      "LotArea            0\n",
      "                ... \n",
      "MoSold             0\n",
      "YrSold             0\n",
      "SaleType           1\n",
      "SaleCondition      0\n",
      "SalePrice          0\n",
      "Length: 81, dtype: int64\n"
     ]
    }
   ],
   "source": [
    "original_data = pd.read_excel('Original_Data.xlsx', engine='openpyxl', header=3) \n",
    "original_data = original_data.iloc[:,:-2]\n",
    "print(original_data.head())\n",
    "\n",
    "print(original_data['LotFrontage'].describe())\n",
    "print(original_data.isnull().sum())"
   ]
  },
  {
   "cell_type": "code",
   "execution_count": 17,
   "metadata": {
    "ExecuteTime": {
     "end_time": "2024-02-22T18:53:27.842435Z",
     "start_time": "2024-02-22T18:53:27.433498Z"
    }
   },
   "outputs": [],
   "source": [
    "from sklearn.impute import SimpleImputer, KNNImputer\n",
    "\n",
    "train_data = original_data.iloc[:1800].copy(deep=True)\n",
    "validation_data = original_data.iloc[1800:2400].copy(deep=True)\n",
    "test_data = original_data.iloc[2400:].copy(deep=True)\n",
    "\n",
    "features = ['LotFrontage', 'OverallQual', 'YearBuilt', 'LotArea']\n",
    "target = 'SalePrice'\n",
    "\n",
    "mean_imputer = SimpleImputer(strategy='mean')\n",
    "train_data['LotFrontage'] = mean_imputer.fit_transform(train_data[['LotFrontage']])\n",
    "validation_data['LotFrontage'] = mean_imputer.transform(validation_data[['LotFrontage']])\n",
    "test_data['LotFrontage'] = mean_imputer.transform(test_data[['LotFrontage']])"
   ]
  },
  {
   "cell_type": "code",
   "execution_count": 18,
   "metadata": {
    "ExecuteTime": {
     "end_time": "2024-02-22T18:53:27.845526Z",
     "start_time": "2024-02-22T18:53:27.664171Z"
    }
   },
   "outputs": [
    {
     "data": {
      "text/plain": "array([5.44186746e+02, 3.78464103e+04, 3.51888069e+02, 1.39595332e+00])"
     },
     "execution_count": 18,
     "metadata": {},
     "output_type": "execute_result"
    }
   ],
   "source": [
    "lr = LinearRegression()\n",
    "lr.fit(train_data[features], train_data[target])\n",
    "lr.coef_"
   ]
  },
  {
   "cell_type": "code",
   "execution_count": 19,
   "metadata": {
    "ExecuteTime": {
     "end_time": "2024-02-22T18:53:27.913578Z",
     "start_time": "2024-02-22T18:53:27.673095Z"
    }
   },
   "outputs": [
    {
     "name": "stdout",
     "output_type": "stream",
     "text": [
      "Optimal Lasso alpha: 0.001\n",
      "Optimal Ridge alpha: 0.001\n"
     ]
    }
   ],
   "source": [
    "from sklearn.model_selection import GridSearchCV\n",
    "\n",
    "def tune_alpha(train_data, features, target):\n",
    "    # Define the parameter grid\n",
    "    param_grid = {'alpha': [0.001, 0.015, 0.1, 1, 10, 100]}\n",
    "    \n",
    "    # Define the models\n",
    "    lasso = Lasso()\n",
    "    ridge = Ridge()\n",
    "\n",
    "    # Setup grid searches\n",
    "    grid_search_lasso = GridSearchCV(lasso, param_grid, cv=5, scoring='neg_mean_squared_error')\n",
    "    grid_search_ridge = GridSearchCV(ridge, param_grid, cv=5, scoring='neg_mean_squared_error')\n",
    "\n",
    "    # Perform grid search for Lasso\n",
    "    grid_search_lasso.fit(train_data[features], train_data[target])\n",
    "    lasso_best_alpha = grid_search_lasso.best_params_['alpha']\n",
    "\n",
    "    # Perform grid search for Ridge\n",
    "    grid_search_ridge.fit(train_data[features], train_data[target])\n",
    "    ridge_best_alpha = grid_search_ridge.best_params_['alpha']\n",
    "\n",
    "    return lasso_best_alpha, ridge_best_alpha\n",
    "\n",
    "# Assuming 'train_data' is the training set after imputation\n",
    "lasso_alpha, ridge_alpha = tune_alpha(train_data, features, target)\n",
    "print(f\"Optimal Lasso alpha: {lasso_alpha}\")\n",
    "print(f\"Optimal Ridge alpha: {ridge_alpha}\")"
   ]
  },
  {
   "cell_type": "code",
   "execution_count": 20,
   "metadata": {
    "ExecuteTime": {
     "end_time": "2024-02-22T18:53:27.914606Z",
     "start_time": "2024-02-22T18:53:27.899709Z"
    }
   },
   "outputs": [],
   "source": [
    "from sklearn.metrics import mean_squared_error, mean_absolute_error, r2_score\n",
    "\n",
    "def evaluate_models(features, target, train_data, validation_data):\n",
    "    results = {}\n",
    "    strategies = ['mean', 'median', 'most_frequent']  # Imputation strategies\n",
    "    models = {\n",
    "        'Linear': LinearRegression(),\n",
    "        'Lasso': Lasso(alpha=0.001),  # Placeholder, should be tuned\n",
    "        'Ridge': Ridge(alpha=0.001)   # Placeholder, should be tuned\n",
    "    }\n",
    "\n",
    "    # Apply each imputation strategy\n",
    "    for strategy in strategies:\n",
    "        imputer = SimpleImputer(strategy=strategy)\n",
    "        train_data_imputed = train_data.copy()\n",
    "        validation_data_imputed = validation_data.copy()\n",
    "        train_data_imputed['LotFrontage'] = imputer.fit_transform(train_data[['LotFrontage']])\n",
    "        validation_data_imputed['LotFrontage'] = imputer.transform(validation_data[['LotFrontage']])\n",
    "\n",
    "        # Fitting each model \n",
    "        for model_name, model in models.items():\n",
    "            model.fit(train_data_imputed[features], train_data_imputed[target])\n",
    "            predictions = model.predict(validation_data_imputed[features])\n",
    "            mse = mean_squared_error(validation_data_imputed[target], predictions)\n",
    "            rmse = mse ** 0.5  # Corrected RMSE calculation\n",
    "            mae = mean_absolute_error(validation_data_imputed[target], predictions)\n",
    "            r2 = r2_score(validation_data_imputed[target], predictions)\n",
    "\n",
    "            # Storing results\n",
    "            results[f'{strategy}_{model_name}'] = {'MSE': mse, 'RMSE': rmse, 'MAE': mae, 'R2': r2}\n",
    "\n",
    "    return results"
   ]
  },
  {
   "cell_type": "code",
   "execution_count": 21,
   "metadata": {
    "ExecuteTime": {
     "end_time": "2024-02-22T18:53:27.983051Z",
     "start_time": "2024-02-22T18:53:27.905039Z"
    }
   },
   "outputs": [
    {
     "name": "stdout",
     "output_type": "stream",
     "text": [
      "Imputation and Model: mean_Linear\n",
      "  MSE: 1609724997.26\n",
      "  RMSE: 40121.38\n",
      "  MAE: 28862.64\n",
      "  R2: 0.76\n",
      "-----\n",
      "Imputation and Model: mean_Lasso\n",
      "  MSE: 1609724999.36\n",
      "  RMSE: 40121.38\n",
      "  MAE: 28862.64\n",
      "  R2: 0.76\n",
      "-----\n",
      "Imputation and Model: mean_Ridge\n",
      "  MSE: 1609725029.49\n",
      "  RMSE: 40121.38\n",
      "  MAE: 28862.63\n",
      "  R2: 0.76\n",
      "-----\n",
      "Imputation and Model: median_Linear\n",
      "  MSE: 1609724997.26\n",
      "  RMSE: 40121.38\n",
      "  MAE: 28862.64\n",
      "  R2: 0.76\n",
      "-----\n",
      "Imputation and Model: median_Lasso\n",
      "  MSE: 1609724999.36\n",
      "  RMSE: 40121.38\n",
      "  MAE: 28862.64\n",
      "  R2: 0.76\n",
      "-----\n",
      "Imputation and Model: median_Ridge\n",
      "  MSE: 1609725029.49\n",
      "  RMSE: 40121.38\n",
      "  MAE: 28862.63\n",
      "  R2: 0.76\n",
      "-----\n",
      "Imputation and Model: most_frequent_Linear\n",
      "  MSE: 1609724997.26\n",
      "  RMSE: 40121.38\n",
      "  MAE: 28862.64\n",
      "  R2: 0.76\n",
      "-----\n",
      "Imputation and Model: most_frequent_Lasso\n",
      "  MSE: 1609724999.36\n",
      "  RMSE: 40121.38\n",
      "  MAE: 28862.64\n",
      "  R2: 0.76\n",
      "-----\n",
      "Imputation and Model: most_frequent_Ridge\n",
      "  MSE: 1609725029.49\n",
      "  RMSE: 40121.38\n",
      "  MAE: 28862.63\n",
      "  R2: 0.76\n",
      "-----\n"
     ]
    }
   ],
   "source": [
    "evaluation_results = evaluate_models(features, target, train_data, validation_data)\n",
    "\n",
    "# Display the results\n",
    "for key, value in evaluation_results.items():\n",
    "    print(f\"Imputation and Model: {key}\")\n",
    "    print(f\"  MSE: {value['MSE']:.2f}\")\n",
    "    print(f\"  RMSE: {value['RMSE']:.2f}\")\n",
    "    print(f\"  MAE: {value['MAE']:.2f}\")\n",
    "    print(f\"  R2: {value['R2']:.2f}\")\n",
    "    print('-----')"
   ]
  },
  {
   "cell_type": "markdown",
   "source": [
    "### Part B: Adding Lot Shape"
   ],
   "metadata": {
    "collapsed": false
   }
  },
  {
   "cell_type": "code",
   "outputs": [],
   "source": [
    "## Part B (2pts): Add the categorical feature Lot Shape to the data set you used for Part A.\n",
    "   ## - Fit all three regressions (Linear Regression, Lasso and Ridge).\n",
    "##- Report on its performance, by how much do these two features (Lot Shape and Lot\n",
    "##Frontage) improve prediction. Provide supporting explanation for your results.\n",
    "\n",
    "# data_b = pd.concat([data_a,], axis=1)\n",
    "\n",
    "\"\"\"\n",
    "for house in original_data['HouseStyle']: # goes through each row in the house style column in the csv file\n",
    "    if i not in HouseStyle_types: \n",
    "        HouseStyle_types.append(i)\n",
    "        HouseStyle[i] = []\n",
    "    # it creates a key in the dictionary for each house style, and it adds each key to a list\n",
    "    # HouseStyle_types is a list of all house styles\n",
    "\n",
    "for house in original_data['HouseStyle']: \n",
    "    for j in range(len(HouseStyle_types)):\n",
    "        if i == HouseStyle_types[j]:\n",
    "            HouseStyle[HouseStyle_types[j]].append(1)\n",
    "        else:\n",
    "            HouseStyle[HouseStyle_types[j]].append(0)\n",
    "\n",
    "HouseStyle = pd.DataFrame.from_dict(HouseStyle)\n",
    "\"\"\""
   ],
   "metadata": {
    "collapsed": false,
    "ExecuteTime": {
     "end_time": "2024-02-22T18:53:27.986292Z",
     "start_time": "2024-02-22T18:53:27.980955Z"
    }
   },
   "execution_count": 22
  },
  {
   "cell_type": "markdown",
   "source": [
    "Lot Shape has 4 Categories. \n",
    "- let 0 = regular lot shape\n",
    "- let 1 = slightly irregular\n",
    "- let 2 = moderately irregular\n",
    "- let 3 = irregular"
   ],
   "metadata": {
    "collapsed": false
   }
  },
  {
   "cell_type": "markdown",
   "source": [
    "### Create Categorical Variable"
   ],
   "metadata": {
    "collapsed": false
   }
  },
  {
   "cell_type": "code",
   "outputs": [],
   "source": [
    "lot_shapes = []\n",
    "for row in original_data['HouseStyle']:\n",
    "    if row == 'Reg':\n",
    "        lot_shapes.append(0)\n",
    "    elif row == 'IR1':\n",
    "        lot_shapes.append(1)\n",
    "    elif row == 'IR2':\n",
    "        lot_shapes.append(2)\n",
    "    else:\n",
    "        lot_shapes.append(3)\n",
    "\n",
    "Lot_Shape = pd.DataFrame(lot_shapes, columns=['HouseStyle'])\n",
    "\n",
    "print(Lot_Shape)"
   ],
   "metadata": {
    "collapsed": false
   }
  },
  {
   "cell_type": "markdown",
   "source": [
    "### Standardizing Dummies"
   ],
   "metadata": {
    "collapsed": false
   }
  },
  {
   "cell_type": "code",
   "outputs": [],
   "source": [
    "LotShape_standardized = Lot_Shape\n",
    "LotShape_standardized = (LotShape_standardized - LotShape_standardized.mean()) \n",
    "LotShape_standardized.head(5)\n"
   ],
   "metadata": {
    "collapsed": false
   }
  },
  {
   "cell_type": "markdown",
   "source": [
    "### Adding LotShape to DataFrame"
   ],
   "metadata": {
    "collapsed": false
   }
  },
  {
   "cell_type": "code",
   "outputs": [],
   "source": [
    "data_b = pd.concat([data_a, LotShape_standardized], axis=1)\n",
    "data_b.head()"
   ],
   "metadata": {
    "collapsed": false
   }
  },
  {
   "cell_type": "markdown",
   "source": [
    "### Linear Regression"
   ],
   "metadata": {
    "collapsed": false
   }
  },
  {
   "cell_type": "code",
   "outputs": [],
   "source": [
    "train = data_b.iloc[:1800]\n",
    "validation = data_b.iloc[1800:2400]\n",
    "test = data_b.iloc[2400:2908]\n",
    "\n",
    "X_train = train.drop('Sale Price', axis=1)\n",
    "X_val = validation.drop('Sale Price', axis=1)\n",
    "Y_train, Y_val = train[['Sale Price']], validation[['Sale Price']]"
   ],
   "metadata": {
    "collapsed": false
   }
  },
  {
   "cell_type": "code",
   "outputs": [],
   "source": [
    "linear_reg = LinearRegression()\n",
    "linear_reg.fit(X_train, Y_train)\n",
    "prediction = linear_reg.predict(X_train)\n",
    "mse = mse(Y_train, prediction)\n",
    "print(\"MSE: \"+ str(mse))\n",
    "print(\"RMSE: \" + str(np.sqrt(mse)))\n",
    "print(\"MAE: \" + str(mean_absolute_error(Y_train, prediction)))\n",
    "prediction1 = linear_reg.predict(X_val)\n",
    "mse1 = mse(Y_train, prediction)\n",
    "print(mse1)\n",
    "print(\"RMSE: \" + str(np.sqrt(mse1)))\n",
    "print(\"MAE: \" + str(mean_absolute_error(Y_train, prediction)))"
   ],
   "metadata": {
    "collapsed": false
   }
  },
  {
   "cell_type": "code",
   "outputs": [],
   "source": [
    "coeffs = pd.DataFrame(\n",
    "    [\n",
    "        ['intercept'] + list(X_train.columns),\n",
    "        list(linear_reg.intercept_) + list(linear_reg.coef_[0])\n",
    "    ]\n",
    ").transpose().set_index(0)\n",
    "coeffs"
   ],
   "metadata": {
    "collapsed": false
   }
  },
  {
   "cell_type": "markdown",
   "source": [
    "### Lasso Regression, alpha = 0.01"
   ],
   "metadata": {
    "collapsed": false
   }
  },
  {
   "cell_type": "code",
   "outputs": [],
   "source": [
    "%%sql\n",
    "lasso_reg = Lasso(alpha(0.01))\n",
    "lasso_reg.fit(X_train, Y_train)\n",
    "\n",
    "          coeffs = pd.DataFrame(\n",
    "    [\n",
    "        ['intercept'] + list(X_train.columns),\n",
    "        list(lasso_reg.intercept_) + list(lasso_reg.coef_[0])\n",
    "    ]\n",
    ").transpose().set_index(0)\n",
    "coeffs"
   ],
   "metadata": {
    "collapsed": false,
    "SqlCellData": {
     "variableName$1": "df_sql"
    }
   }
  },
  {
   "cell_type": "code",
   "outputs": [],
   "source": [
    "prediction = lasso_reg.predict(X_train)\n",
    "mse = mse(Y_train, prediction)\n",
    "print(\"MSE: \"+ str(mse))\n",
    "print(\"RMSE: \" + str(np.sqrt(mse)))\n",
    "print(\"MAE: \" + str(mean_absolute_error(Y_train, prediction)))\n",
    "prediction1 = lasso_reg.predict(X_val)\n",
    "mse1 = mse(Y_train, prediction)\n",
    "print(mse1)\n",
    "print(\"RMSE: \" + str(np.sqrt(mse1)))\n",
    "print(\"MAE: \" + str(mean_absolute_error(Y_train, prediction)))"
   ],
   "metadata": {
    "collapsed": false
   }
  },
  {
   "cell_type": "markdown",
   "source": [
    "### Ridge Regression"
   ],
   "metadata": {
    "collapsed": false
   }
  },
  {
   "cell_type": "code",
   "outputs": [],
   "source": [
    "alpha = 1800*0.01\n",
    "ride_reg = Ridge(alpha=alpha)\n",
    "ridge_reg.fit(X_train, Y_train)\n",
    "prediction = ridge_reg.predict(X_train)\n",
    "mse = mse(Y_train, prediction)\n",
    "print(\"MSE: \"+ str(mse))\n",
    "print(\"RMSE: \" + str(np.sqrt(mse)))\n",
    "print(\"MAE: \" + str(mean_absolute_error(Y_train, prediction)))\n",
    "prediction1 = ridge_reg.predict(X_val)\n",
    "mse1 = mse(Y_train, prediction)\n",
    "print(mse1)\n",
    "print(\"RMSE: \" + str(np.sqrt(mse1)))\n",
    "print(\"MAE: \" + str(mean_absolute_error(Y_train, prediction)))"
   ],
   "metadata": {
    "collapsed": false
   }
  },
  {
   "cell_type": "markdown",
   "source": [],
   "metadata": {
    "collapsed": false
   }
  }
 ],
 "metadata": {
  "file_extension": ".py",
  "kernelspec": {
   "display_name": "Python 3",
   "language": "python",
   "name": "python3"
  },
  "language_info": {
   "codemirror_mode": {
    "name": "ipython",
    "version": 3
   },
   "file_extension": ".py",
   "mimetype": "text/x-python",
   "name": "python",
   "nbconvert_exporter": "python",
   "pygments_lexer": "ipython3",
   "version": "3.11.8"
  },
  "mimetype": "text/x-python",
  "name": "python",
  "npconvert_exporter": "python",
  "pygments_lexer": "ipython3",
  "version": 3
 },
 "nbformat": 4,
 "nbformat_minor": 2
}
