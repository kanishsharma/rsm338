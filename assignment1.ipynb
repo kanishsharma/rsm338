{
 "cells": [
  {
   "cell_type": "code",
   "execution_count": 17,
   "metadata": {},
   "outputs": [],
   "source": [
    "import matplotlib.pyplot as plt\n",
    "import numpy as np\n",
    "import pandas as pd\n",
    "\n",
    "\n",
    "from datetime import datetime\n",
    "from pandas_datareader import data\n",
    "import yfinance as yahooFinance\n",
    "\n",
    "from sklearn.linear_model import LinearRegression"
   ]
  },
  {
   "cell_type": "code",
   "execution_count": 18,
   "metadata": {},
   "outputs": [
    {
     "name": "stderr",
     "output_type": "stream",
     "text": [
      "[*********************100%%**********************]  1 of 1 completed\n",
      "[*********************100%%**********************]  1 of 1 completed"
     ]
    },
    {
     "name": "stderr",
     "output_type": "stream",
     "text": [
      "\n",
      "[*********************100%%**********************]  1 of 1 completed\n"
     ]
    }
   ],
   "source": [
    "\n",
    "tickers = ['AAPL', 'SPY', 'JPM']\n",
    "start_date = datetime(2018,8,18)\n",
    "end_date = datetime(2022,12,31)\n",
    "\n",
    "AAPL_data = yahooFinance.download(tickers[0], start_date, end_date)\n",
    "SPY_data = yahooFinance.download(tickers[1], start_date, end_date)\n",
    "JPM_data = yahooFinance.download(tickers[2], start_date, end_date)"
   ]
  },
  {
   "cell_type": "markdown",
   "metadata": {},
   "source": [
    "### Question 1"
   ]
  },
  {
   "cell_type": "code",
   "execution_count": 19,
   "metadata": {},
   "outputs": [
    {
     "data": {
      "text/html": [
       "<div>\n",
       "<style scoped>\n",
       "    .dataframe tbody tr th:only-of-type {\n",
       "        vertical-align: middle;\n",
       "    }\n",
       "\n",
       "    .dataframe tbody tr th {\n",
       "        vertical-align: top;\n",
       "    }\n",
       "\n",
       "    .dataframe thead th {\n",
       "        text-align: right;\n",
       "    }\n",
       "</style>\n",
       "<table border=\"1\" class=\"dataframe\">\n",
       "  <thead>\n",
       "    <tr style=\"text-align: right;\">\n",
       "      <th></th>\n",
       "      <th>Open</th>\n",
       "      <th>High</th>\n",
       "      <th>Low</th>\n",
       "      <th>Close</th>\n",
       "      <th>Adj Close</th>\n",
       "      <th>Volume</th>\n",
       "    </tr>\n",
       "    <tr>\n",
       "      <th>Date</th>\n",
       "      <th></th>\n",
       "      <th></th>\n",
       "      <th></th>\n",
       "      <th></th>\n",
       "      <th></th>\n",
       "      <th></th>\n",
       "    </tr>\n",
       "  </thead>\n",
       "  <tbody>\n",
       "    <tr>\n",
       "      <th>2018-08-20</th>\n",
       "      <td>285.570007</td>\n",
       "      <td>285.970001</td>\n",
       "      <td>285.059998</td>\n",
       "      <td>285.670013</td>\n",
       "      <td>260.555969</td>\n",
       "      <td>39807500</td>\n",
       "    </tr>\n",
       "    <tr>\n",
       "      <th>2018-08-21</th>\n",
       "      <td>286.250000</td>\n",
       "      <td>287.309998</td>\n",
       "      <td>285.709991</td>\n",
       "      <td>286.339996</td>\n",
       "      <td>261.167053</td>\n",
       "      <td>67272000</td>\n",
       "    </tr>\n",
       "    <tr>\n",
       "      <th>2018-08-22</th>\n",
       "      <td>285.880005</td>\n",
       "      <td>286.760010</td>\n",
       "      <td>285.579987</td>\n",
       "      <td>286.170013</td>\n",
       "      <td>261.011993</td>\n",
       "      <td>44993300</td>\n",
       "    </tr>\n",
       "    <tr>\n",
       "      <th>2018-08-23</th>\n",
       "      <td>285.970001</td>\n",
       "      <td>286.940002</td>\n",
       "      <td>285.429993</td>\n",
       "      <td>285.790009</td>\n",
       "      <td>260.665344</td>\n",
       "      <td>49204900</td>\n",
       "    </tr>\n",
       "    <tr>\n",
       "      <th>2018-08-24</th>\n",
       "      <td>286.440002</td>\n",
       "      <td>287.670013</td>\n",
       "      <td>286.380005</td>\n",
       "      <td>287.510010</td>\n",
       "      <td>262.234131</td>\n",
       "      <td>57487400</td>\n",
       "    </tr>\n",
       "  </tbody>\n",
       "</table>\n",
       "</div>"
      ],
      "text/plain": [
       "                  Open        High         Low       Close   Adj Close  \\\n",
       "Date                                                                     \n",
       "2018-08-20  285.570007  285.970001  285.059998  285.670013  260.555969   \n",
       "2018-08-21  286.250000  287.309998  285.709991  286.339996  261.167053   \n",
       "2018-08-22  285.880005  286.760010  285.579987  286.170013  261.011993   \n",
       "2018-08-23  285.970001  286.940002  285.429993  285.790009  260.665344   \n",
       "2018-08-24  286.440002  287.670013  286.380005  287.510010  262.234131   \n",
       "\n",
       "              Volume  \n",
       "Date                  \n",
       "2018-08-20  39807500  \n",
       "2018-08-21  67272000  \n",
       "2018-08-22  44993300  \n",
       "2018-08-23  49204900  \n",
       "2018-08-24  57487400  "
      ]
     },
     "execution_count": 19,
     "metadata": {},
     "output_type": "execute_result"
    }
   ],
   "source": [
    "SPY_data.head()"
   ]
  },
  {
   "cell_type": "markdown",
   "metadata": {},
   "source": [
    "### Question 2"
   ]
  },
  {
   "cell_type": "code",
   "execution_count": 20,
   "metadata": {},
   "outputs": [
    {
     "data": {
      "text/html": [
       "<div>\n",
       "<style scoped>\n",
       "    .dataframe tbody tr th:only-of-type {\n",
       "        vertical-align: middle;\n",
       "    }\n",
       "\n",
       "    .dataframe tbody tr th {\n",
       "        vertical-align: top;\n",
       "    }\n",
       "\n",
       "    .dataframe thead th {\n",
       "        text-align: right;\n",
       "    }\n",
       "</style>\n",
       "<table border=\"1\" class=\"dataframe\">\n",
       "  <thead>\n",
       "    <tr style=\"text-align: right;\">\n",
       "      <th></th>\n",
       "      <th>Open</th>\n",
       "      <th>High</th>\n",
       "      <th>Low</th>\n",
       "      <th>Close</th>\n",
       "      <th>Adj Close</th>\n",
       "      <th>Volume</th>\n",
       "      <th>Returns</th>\n",
       "    </tr>\n",
       "    <tr>\n",
       "      <th>Date</th>\n",
       "      <th></th>\n",
       "      <th></th>\n",
       "      <th></th>\n",
       "      <th></th>\n",
       "      <th></th>\n",
       "      <th></th>\n",
       "      <th></th>\n",
       "    </tr>\n",
       "  </thead>\n",
       "  <tbody>\n",
       "    <tr>\n",
       "      <th>2018-08-21</th>\n",
       "      <td>286.250000</td>\n",
       "      <td>287.309998</td>\n",
       "      <td>285.709991</td>\n",
       "      <td>286.339996</td>\n",
       "      <td>261.167053</td>\n",
       "      <td>67272000</td>\n",
       "      <td>0.002345</td>\n",
       "    </tr>\n",
       "    <tr>\n",
       "      <th>2018-08-22</th>\n",
       "      <td>285.880005</td>\n",
       "      <td>286.760010</td>\n",
       "      <td>285.579987</td>\n",
       "      <td>286.170013</td>\n",
       "      <td>261.011993</td>\n",
       "      <td>44993300</td>\n",
       "      <td>-0.000594</td>\n",
       "    </tr>\n",
       "    <tr>\n",
       "      <th>2018-08-23</th>\n",
       "      <td>285.970001</td>\n",
       "      <td>286.940002</td>\n",
       "      <td>285.429993</td>\n",
       "      <td>285.790009</td>\n",
       "      <td>260.665344</td>\n",
       "      <td>49204900</td>\n",
       "      <td>-0.001328</td>\n",
       "    </tr>\n",
       "    <tr>\n",
       "      <th>2018-08-24</th>\n",
       "      <td>286.440002</td>\n",
       "      <td>287.670013</td>\n",
       "      <td>286.380005</td>\n",
       "      <td>287.510010</td>\n",
       "      <td>262.234131</td>\n",
       "      <td>57487400</td>\n",
       "      <td>0.006018</td>\n",
       "    </tr>\n",
       "    <tr>\n",
       "      <th>2018-08-27</th>\n",
       "      <td>288.859985</td>\n",
       "      <td>289.899994</td>\n",
       "      <td>288.679993</td>\n",
       "      <td>289.779999</td>\n",
       "      <td>264.304626</td>\n",
       "      <td>57072400</td>\n",
       "      <td>0.007896</td>\n",
       "    </tr>\n",
       "  </tbody>\n",
       "</table>\n",
       "</div>"
      ],
      "text/plain": [
       "                  Open        High         Low       Close   Adj Close  \\\n",
       "Date                                                                     \n",
       "2018-08-21  286.250000  287.309998  285.709991  286.339996  261.167053   \n",
       "2018-08-22  285.880005  286.760010  285.579987  286.170013  261.011993   \n",
       "2018-08-23  285.970001  286.940002  285.429993  285.790009  260.665344   \n",
       "2018-08-24  286.440002  287.670013  286.380005  287.510010  262.234131   \n",
       "2018-08-27  288.859985  289.899994  288.679993  289.779999  264.304626   \n",
       "\n",
       "              Volume   Returns  \n",
       "Date                            \n",
       "2018-08-21  67272000  0.002345  \n",
       "2018-08-22  44993300 -0.000594  \n",
       "2018-08-23  49204900 -0.001328  \n",
       "2018-08-24  57487400  0.006018  \n",
       "2018-08-27  57072400  0.007896  "
      ]
     },
     "execution_count": 20,
     "metadata": {},
     "output_type": "execute_result"
    }
   ],
   "source": [
    "SPY_data[\"Returns\"] = SPY_data['Adj Close'].pct_change(periods=1)\n",
    "\n",
    "date = datetime(2018, 8, 20)\n",
    "SPY_data.drop(date, axis=0, inplace=True)\n",
    "SPY_data.head()"
   ]
  },
  {
   "cell_type": "code",
   "execution_count": 21,
   "metadata": {},
   "outputs": [
    {
     "data": {
      "text/html": [
       "<div>\n",
       "<style scoped>\n",
       "    .dataframe tbody tr th:only-of-type {\n",
       "        vertical-align: middle;\n",
       "    }\n",
       "\n",
       "    .dataframe tbody tr th {\n",
       "        vertical-align: top;\n",
       "    }\n",
       "\n",
       "    .dataframe thead th {\n",
       "        text-align: right;\n",
       "    }\n",
       "</style>\n",
       "<table border=\"1\" class=\"dataframe\">\n",
       "  <thead>\n",
       "    <tr style=\"text-align: right;\">\n",
       "      <th></th>\n",
       "      <th>Open</th>\n",
       "      <th>High</th>\n",
       "      <th>Low</th>\n",
       "      <th>Close</th>\n",
       "      <th>Adj Close</th>\n",
       "      <th>Volume</th>\n",
       "      <th>Returns</th>\n",
       "    </tr>\n",
       "    <tr>\n",
       "      <th>Date</th>\n",
       "      <th></th>\n",
       "      <th></th>\n",
       "      <th></th>\n",
       "      <th></th>\n",
       "      <th></th>\n",
       "      <th></th>\n",
       "      <th></th>\n",
       "    </tr>\n",
       "  </thead>\n",
       "  <tbody>\n",
       "    <tr>\n",
       "      <th>2018-08-21</th>\n",
       "      <td>54.200001</td>\n",
       "      <td>54.297501</td>\n",
       "      <td>53.507500</td>\n",
       "      <td>53.759998</td>\n",
       "      <td>51.420017</td>\n",
       "      <td>104639200</td>\n",
       "      <td>-0.001949</td>\n",
       "    </tr>\n",
       "    <tr>\n",
       "      <th>2018-08-22</th>\n",
       "      <td>53.525002</td>\n",
       "      <td>54.090000</td>\n",
       "      <td>53.459999</td>\n",
       "      <td>53.762501</td>\n",
       "      <td>51.422409</td>\n",
       "      <td>76072400</td>\n",
       "      <td>0.000047</td>\n",
       "    </tr>\n",
       "    <tr>\n",
       "      <th>2018-08-23</th>\n",
       "      <td>53.662498</td>\n",
       "      <td>54.262501</td>\n",
       "      <td>53.650002</td>\n",
       "      <td>53.872501</td>\n",
       "      <td>51.527622</td>\n",
       "      <td>75532800</td>\n",
       "      <td>0.002046</td>\n",
       "    </tr>\n",
       "    <tr>\n",
       "      <th>2018-08-24</th>\n",
       "      <td>54.150002</td>\n",
       "      <td>54.224998</td>\n",
       "      <td>53.777500</td>\n",
       "      <td>54.040001</td>\n",
       "      <td>51.687832</td>\n",
       "      <td>73905600</td>\n",
       "      <td>0.003109</td>\n",
       "    </tr>\n",
       "    <tr>\n",
       "      <th>2018-08-27</th>\n",
       "      <td>54.287498</td>\n",
       "      <td>54.685001</td>\n",
       "      <td>54.082500</td>\n",
       "      <td>54.485001</td>\n",
       "      <td>52.113461</td>\n",
       "      <td>82100400</td>\n",
       "      <td>0.008235</td>\n",
       "    </tr>\n",
       "  </tbody>\n",
       "</table>\n",
       "</div>"
      ],
      "text/plain": [
       "                 Open       High        Low      Close  Adj Close     Volume  \\\n",
       "Date                                                                           \n",
       "2018-08-21  54.200001  54.297501  53.507500  53.759998  51.420017  104639200   \n",
       "2018-08-22  53.525002  54.090000  53.459999  53.762501  51.422409   76072400   \n",
       "2018-08-23  53.662498  54.262501  53.650002  53.872501  51.527622   75532800   \n",
       "2018-08-24  54.150002  54.224998  53.777500  54.040001  51.687832   73905600   \n",
       "2018-08-27  54.287498  54.685001  54.082500  54.485001  52.113461   82100400   \n",
       "\n",
       "             Returns  \n",
       "Date                  \n",
       "2018-08-21 -0.001949  \n",
       "2018-08-22  0.000047  \n",
       "2018-08-23  0.002046  \n",
       "2018-08-24  0.003109  \n",
       "2018-08-27  0.008235  "
      ]
     },
     "execution_count": 21,
     "metadata": {},
     "output_type": "execute_result"
    }
   ],
   "source": [
    "AAPL_data[\"Returns\"] = AAPL_data['Adj Close'].pct_change(periods=1)\n",
    "AAPL_data.drop(date, axis=0, inplace=True)\n",
    "AAPL_data.head()"
   ]
  },
  {
   "cell_type": "code",
   "execution_count": 22,
   "metadata": {},
   "outputs": [
    {
     "data": {
      "text/html": [
       "<div>\n",
       "<style scoped>\n",
       "    .dataframe tbody tr th:only-of-type {\n",
       "        vertical-align: middle;\n",
       "    }\n",
       "\n",
       "    .dataframe tbody tr th {\n",
       "        vertical-align: top;\n",
       "    }\n",
       "\n",
       "    .dataframe thead th {\n",
       "        text-align: right;\n",
       "    }\n",
       "</style>\n",
       "<table border=\"1\" class=\"dataframe\">\n",
       "  <thead>\n",
       "    <tr style=\"text-align: right;\">\n",
       "      <th></th>\n",
       "      <th>Open</th>\n",
       "      <th>High</th>\n",
       "      <th>Low</th>\n",
       "      <th>Close</th>\n",
       "      <th>Adj Close</th>\n",
       "      <th>Volume</th>\n",
       "      <th>Returns</th>\n",
       "    </tr>\n",
       "    <tr>\n",
       "      <th>Date</th>\n",
       "      <th></th>\n",
       "      <th></th>\n",
       "      <th></th>\n",
       "      <th></th>\n",
       "      <th></th>\n",
       "      <th></th>\n",
       "      <th></th>\n",
       "    </tr>\n",
       "  </thead>\n",
       "  <tbody>\n",
       "    <tr>\n",
       "      <th>2018-08-21</th>\n",
       "      <td>115.370003</td>\n",
       "      <td>116.389999</td>\n",
       "      <td>114.879997</td>\n",
       "      <td>115.320000</td>\n",
       "      <td>97.799500</td>\n",
       "      <td>10976700</td>\n",
       "      <td>0.006107</td>\n",
       "    </tr>\n",
       "    <tr>\n",
       "      <th>2018-08-22</th>\n",
       "      <td>115.309998</td>\n",
       "      <td>115.410004</td>\n",
       "      <td>114.779999</td>\n",
       "      <td>114.970001</td>\n",
       "      <td>97.502663</td>\n",
       "      <td>8314700</td>\n",
       "      <td>-0.003035</td>\n",
       "    </tr>\n",
       "    <tr>\n",
       "      <th>2018-08-23</th>\n",
       "      <td>114.959999</td>\n",
       "      <td>115.150002</td>\n",
       "      <td>114.430000</td>\n",
       "      <td>114.730003</td>\n",
       "      <td>97.299149</td>\n",
       "      <td>9265400</td>\n",
       "      <td>-0.002087</td>\n",
       "    </tr>\n",
       "    <tr>\n",
       "      <th>2018-08-24</th>\n",
       "      <td>114.980003</td>\n",
       "      <td>115.220001</td>\n",
       "      <td>114.449997</td>\n",
       "      <td>114.680000</td>\n",
       "      <td>97.256752</td>\n",
       "      <td>8845700</td>\n",
       "      <td>-0.000436</td>\n",
       "    </tr>\n",
       "    <tr>\n",
       "      <th>2018-08-27</th>\n",
       "      <td>115.220001</td>\n",
       "      <td>117.279999</td>\n",
       "      <td>115.169998</td>\n",
       "      <td>116.709999</td>\n",
       "      <td>98.978310</td>\n",
       "      <td>13768000</td>\n",
       "      <td>0.017701</td>\n",
       "    </tr>\n",
       "  </tbody>\n",
       "</table>\n",
       "</div>"
      ],
      "text/plain": [
       "                  Open        High         Low       Close  Adj Close  \\\n",
       "Date                                                                    \n",
       "2018-08-21  115.370003  116.389999  114.879997  115.320000  97.799500   \n",
       "2018-08-22  115.309998  115.410004  114.779999  114.970001  97.502663   \n",
       "2018-08-23  114.959999  115.150002  114.430000  114.730003  97.299149   \n",
       "2018-08-24  114.980003  115.220001  114.449997  114.680000  97.256752   \n",
       "2018-08-27  115.220001  117.279999  115.169998  116.709999  98.978310   \n",
       "\n",
       "              Volume   Returns  \n",
       "Date                            \n",
       "2018-08-21  10976700  0.006107  \n",
       "2018-08-22   8314700 -0.003035  \n",
       "2018-08-23   9265400 -0.002087  \n",
       "2018-08-24   8845700 -0.000436  \n",
       "2018-08-27  13768000  0.017701  "
      ]
     },
     "execution_count": 22,
     "metadata": {},
     "output_type": "execute_result"
    }
   ],
   "source": [
    "JPM_data[\"Returns\"] = JPM_data['Adj Close'].pct_change(periods=1)\n",
    "JPM_data.drop(date, axis=0, inplace=True)\n",
    "JPM_data.head()"
   ]
  },
  {
   "cell_type": "markdown",
   "metadata": {},
   "source": [
    "### Question 3"
   ]
  },
  {
   "cell_type": "code",
   "execution_count": 23,
   "metadata": {},
   "outputs": [
    {
     "data": {
      "text/plain": [
       "1.2601772113284297"
      ]
     },
     "execution_count": 23,
     "metadata": {},
     "output_type": "execute_result"
    }
   ],
   "source": [
    "X = SPY_data['Returns'].values.reshape(-1, 1)  # SPY returns as independent variable\n",
    "Y = AAPL_data['Returns'].values.reshape(-1, 1)  # AAPL returns as dependent variable\n",
    "\n",
    "reg = LinearRegression().fit(X, Y)\n",
    "reg.coef_[0][0]"
   ]
  },
  {
   "cell_type": "markdown",
   "metadata": {},
   "source": [
    "### Question 4"
   ]
  },
  {
   "cell_type": "code",
   "execution_count": 24,
   "metadata": {},
   "outputs": [],
   "source": [
    "JPM_historical = JPM_data[\"Returns\"].iloc[:100]\n",
    "AAPL_historical = AAPL_data['Returns'].iloc[:100]"
   ]
  },
  {
   "cell_type": "code",
   "execution_count": 25,
   "metadata": {},
   "outputs": [
    {
     "name": "stdout",
     "output_type": "stream",
     "text": [
      "-0.0010224915308481531\n",
      "0.01401428800524082\n"
     ]
    }
   ],
   "source": [
    "JPM_mean = JPM_historical.mean()\n",
    "JPM_std = JPM_historical.std()\n",
    "print(JPM_mean)\n",
    "print(JPM_std)"
   ]
  },
  {
   "cell_type": "code",
   "execution_count": 26,
   "metadata": {},
   "outputs": [
    {
     "name": "stdout",
     "output_type": "stream",
     "text": [
      "-0.0032882605051910217\n",
      "0.024107401653769376\n"
     ]
    }
   ],
   "source": [
    "AAPL_mean = AAPL_historical.mean()\n",
    "AAPL_std = AAPL_historical.std()\n",
    "print(AAPL_mean)\n",
    "print(AAPL_std)"
   ]
  },
  {
   "cell_type": "markdown",
   "metadata": {},
   "source": [
    "### Question 5"
   ]
  },
  {
   "cell_type": "code",
   "execution_count": 27,
   "metadata": {},
   "outputs": [
    {
     "name": "stdout",
     "output_type": "stream",
     "text": [
      "0.5852063570042554\n"
     ]
    }
   ],
   "source": [
    "corr_JPM_AAPL = np.corrcoef(JPM_historical, AAPL_historical)[0, 1]\n",
    "print(corr_JPM_AAPL)\n"
   ]
  },
  {
   "cell_type": "markdown",
   "metadata": {},
   "source": [
    "The above is a matrix of the correlation coefficients for each date, which approximate to 1 for each date. Below is the mean correlation coeffient for the data points that couldn't be visualized in the above matrix, which is slightly less than 1."
   ]
  },
  {
   "cell_type": "code",
   "execution_count": 28,
   "metadata": {},
   "outputs": [
    {
     "data": {
      "text/plain": [
       "0.5852063570042554"
      ]
     },
     "execution_count": 28,
     "metadata": {},
     "output_type": "execute_result"
    }
   ],
   "source": [
    "corr_JPM_AAPL.mean()"
   ]
  },
  {
   "cell_type": "markdown",
   "metadata": {},
   "source": [
    "### Question 6"
   ]
  },
  {
   "cell_type": "code",
   "execution_count": 29,
   "metadata": {},
   "outputs": [],
   "source": [
    "AAPL_future = AAPL_data.iloc[100:]\n",
    "JPM_future = JPM_data.iloc[100:]"
   ]
  },
  {
   "cell_type": "code",
   "execution_count": 30,
   "metadata": {},
   "outputs": [
    {
     "name": "stdout",
     "output_type": "stream",
     "text": [
      "Weight of AAPL: 0.2, Mean Return: 0.0008062322921279598, Standard Deviation: 0.01963253452404846\n",
      "Weight of AAPL: 0.4, Mean Return: 0.0009827821555445245, Standard Deviation: 0.01861166095084887\n",
      "Weight of AAPL: 0.6, Mean Return: 0.0011593320189610887, Standard Deviation: 0.018619180418305754\n",
      "Weight of AAPL: 0.8, Mean Return: 0.0013358818823776533, Standard Deviation: 0.01965391259108877\n"
     ]
    }
   ],
   "source": [
    "weights = [0.2, 0.4, 0.6, 0.8]\n",
    "portfolio = pd.DataFrame()\n",
    "\n",
    "for w in weights:\n",
    "    portfolio['Returns'] = w * AAPL_future['Returns'] + (1-w) * JPM_future['Returns']\n",
    "\n",
    "    mean_return = portfolio['Returns'].mean()\n",
    "    std_dev = portfolio['Returns'].std()\n",
    "    print(f\"Weight of AAPL: {w}, Mean Return: {mean_return}, Standard Deviation: {std_dev}\")"
   ]
  },
  {
   "cell_type": "markdown",
   "metadata": {},
   "source": [
    "### Question 7"
   ]
  },
  {
   "cell_type": "code",
   "execution_count": 31,
   "metadata": {},
   "outputs": [
    {
     "name": "stdout",
     "output_type": "stream",
     "text": [
      "Sharpe Ratio of AAPL: 0.07012217951502228\n",
      "Sharpe Ratio of JPM: 0.02923853258958888\n",
      "Weight of AAPL: 0.2, Sharpe Ratio: 0.04106613392888129\n",
      "Weight of AAPL: 0.4, Sharpe Ratio: 0.052804645331759076\n",
      "Weight of AAPL: 0.6, Sharpe Ratio: 0.06226546995705957\n",
      "Weight of AAPL: 0.8, Sharpe Ratio: 0.06797027697087409\n"
     ]
    }
   ],
   "source": [
    "sharpe_AAPL = AAPL_future['Returns'].mean() / AAPL_future['Returns'].std()\n",
    "sharpe_JPM = JPM_future['Returns'].mean() / JPM_future['Returns'].std()\n",
    "\n",
    "print(f\"Sharpe Ratio of AAPL: {sharpe_AAPL}\")\n",
    "print(f\"Sharpe Ratio of JPM: {sharpe_JPM}\")\n",
    "\n",
    "portfolio_sharpe = pd.DataFrame()\n",
    "\n",
    "for w in weights:\n",
    "    portfolio_sharpe['Returns'] = w * AAPL_future['Returns'] + (1-w) * JPM_future['Returns']\n",
    "\n",
    "    mean_return = portfolio_sharpe['Returns'].mean()\n",
    "    std_return = portfolio_sharpe['Returns'].std()\n",
    "    sharpe_final = mean_return / std_return\n",
    "\n",
    "    print(f\"Weight of AAPL: {w}, Sharpe Ratio: {sharpe_final}\")"
   ]
  }
 ],
 "metadata": {
  "kernelspec": {
   "display_name": "Python 3",
   "language": "python",
   "name": "python3"
  },
  "language_info": {
   "codemirror_mode": {
    "name": "ipython",
    "version": 3
   },
   "file_extension": ".py",
   "mimetype": "text/x-python",
   "name": "python",
   "nbconvert_exporter": "python",
   "pygments_lexer": "ipython3",
   "version": "3.11.7"
  },
  "orig_nbformat": 4
 },
 "nbformat": 4,
 "nbformat_minor": 2
}
